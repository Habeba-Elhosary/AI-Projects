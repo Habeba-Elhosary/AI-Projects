{
 "cells": [
  {
   "cell_type": "code",
   "execution_count": 1,
   "id": "4c2845e3",
   "metadata": {},
   "outputs": [
    {
     "ename": "ModuleNotFoundError",
     "evalue": "No module named 'tensorflow'",
     "output_type": "error",
     "traceback": [
      "\u001b[1;31m---------------------------------------------------------------------------\u001b[0m",
      "\u001b[1;31mModuleNotFoundError\u001b[0m                       Traceback (most recent call last)",
      "Cell \u001b[1;32mIn[1], line 8\u001b[0m\n\u001b[0;32m      5\u001b[0m \u001b[38;5;28;01mfrom\u001b[39;00m \u001b[38;5;21;01msklearn\u001b[39;00m\u001b[38;5;21;01m.\u001b[39;00m\u001b[38;5;21;01mpreprocessing\u001b[39;00m \u001b[38;5;28;01mimport\u001b[39;00m MinMaxScaler\n\u001b[0;32m      6\u001b[0m \u001b[38;5;28;01mfrom\u001b[39;00m \u001b[38;5;21;01msklearn\u001b[39;00m\u001b[38;5;21;01m.\u001b[39;00m\u001b[38;5;21;01mmetrics\u001b[39;00m \u001b[38;5;28;01mimport\u001b[39;00m mean_squared_error\n\u001b[1;32m----> 8\u001b[0m \u001b[38;5;28;01mfrom\u001b[39;00m \u001b[38;5;21;01mtensorflow\u001b[39;00m\u001b[38;5;21;01m.\u001b[39;00m\u001b[38;5;21;01mkeras\u001b[39;00m\u001b[38;5;21;01m.\u001b[39;00m\u001b[38;5;21;01mmodels\u001b[39;00m \u001b[38;5;28;01mimport\u001b[39;00m Sequential\n\u001b[0;32m      9\u001b[0m \u001b[38;5;28;01mfrom\u001b[39;00m \u001b[38;5;21;01mtensorflow\u001b[39;00m\u001b[38;5;21;01m.\u001b[39;00m\u001b[38;5;21;01mkeras\u001b[39;00m\u001b[38;5;21;01m.\u001b[39;00m\u001b[38;5;21;01mlayers\u001b[39;00m \u001b[38;5;28;01mimport\u001b[39;00m Dropout, LSTM, Dense, GRU, Bidirectional\n\u001b[0;32m     10\u001b[0m \u001b[38;5;28;01mfrom\u001b[39;00m \u001b[38;5;21;01mtensorflow\u001b[39;00m\u001b[38;5;21;01m.\u001b[39;00m\u001b[38;5;21;01mkeras\u001b[39;00m\u001b[38;5;21;01m.\u001b[39;00m\u001b[38;5;21;01moptimizers\u001b[39;00m \u001b[38;5;28;01mimport\u001b[39;00m SGD\n",
      "\u001b[1;31mModuleNotFoundError\u001b[0m: No module named 'tensorflow'"
     ]
    }
   ],
   "source": [
    "import pandas as pd\n",
    "import numpy as np \n",
    "import matplotlib.pyplot as plt \n",
    "\n",
    "from sklearn.preprocessing import MinMaxScaler\n",
    "from sklearn.metrics import mean_squared_error\n",
    "\n",
    "from tensorflow.keras.models import Sequential\n",
    "from tensorflow.keras.layers import Dropout, LSTM, Dense, GRU, Bidirectional\n",
    "from tensorflow.keras.optimizers import SGD\n",
    "from tensorflow.random import set_seed"
   ]
  },
  {
   "cell_type": "code",
   "execution_count": 2,
   "id": "135dc1e3",
   "metadata": {},
   "outputs": [],
   "source": [
    "df= pd.read_csv(\"Mastercard_stock_history.csv\",\n",
    "                index_col=\"Date\" ,parse_dates=[\"Date\"]).drop([\"Dividends\",\"Stock Splits\"], axis=1)"
   ]
  },
  {
   "cell_type": "code",
   "execution_count": 3,
   "id": "42ce29a2",
   "metadata": {},
   "outputs": [
    {
     "data": {
      "text/html": [
       "<div>\n",
       "<style scoped>\n",
       "    .dataframe tbody tr th:only-of-type {\n",
       "        vertical-align: middle;\n",
       "    }\n",
       "\n",
       "    .dataframe tbody tr th {\n",
       "        vertical-align: top;\n",
       "    }\n",
       "\n",
       "    .dataframe thead th {\n",
       "        text-align: right;\n",
       "    }\n",
       "</style>\n",
       "<table border=\"1\" class=\"dataframe\">\n",
       "  <thead>\n",
       "    <tr style=\"text-align: right;\">\n",
       "      <th></th>\n",
       "      <th>Open</th>\n",
       "      <th>High</th>\n",
       "      <th>Low</th>\n",
       "      <th>Close</th>\n",
       "      <th>Volume</th>\n",
       "    </tr>\n",
       "    <tr>\n",
       "      <th>Date</th>\n",
       "      <th></th>\n",
       "      <th></th>\n",
       "      <th></th>\n",
       "      <th></th>\n",
       "      <th></th>\n",
       "    </tr>\n",
       "  </thead>\n",
       "  <tbody>\n",
       "    <tr>\n",
       "      <th>2006-05-25</th>\n",
       "      <td>3.748967</td>\n",
       "      <td>4.283869</td>\n",
       "      <td>3.739664</td>\n",
       "      <td>4.279217</td>\n",
       "      <td>395343000</td>\n",
       "    </tr>\n",
       "    <tr>\n",
       "      <th>2006-05-26</th>\n",
       "      <td>4.307126</td>\n",
       "      <td>4.348058</td>\n",
       "      <td>4.103398</td>\n",
       "      <td>4.179680</td>\n",
       "      <td>103044000</td>\n",
       "    </tr>\n",
       "    <tr>\n",
       "      <th>2006-05-30</th>\n",
       "      <td>4.183400</td>\n",
       "      <td>4.184330</td>\n",
       "      <td>3.986184</td>\n",
       "      <td>4.093164</td>\n",
       "      <td>49898000</td>\n",
       "    </tr>\n",
       "    <tr>\n",
       "      <th>2006-05-31</th>\n",
       "      <td>4.125723</td>\n",
       "      <td>4.219679</td>\n",
       "      <td>4.125723</td>\n",
       "      <td>4.180608</td>\n",
       "      <td>30002000</td>\n",
       "    </tr>\n",
       "    <tr>\n",
       "      <th>2006-06-01</th>\n",
       "      <td>4.179678</td>\n",
       "      <td>4.474572</td>\n",
       "      <td>4.176887</td>\n",
       "      <td>4.419686</td>\n",
       "      <td>62344000</td>\n",
       "    </tr>\n",
       "  </tbody>\n",
       "</table>\n",
       "</div>"
      ],
      "text/plain": [
       "                Open      High       Low     Close     Volume\n",
       "Date                                                         \n",
       "2006-05-25  3.748967  4.283869  3.739664  4.279217  395343000\n",
       "2006-05-26  4.307126  4.348058  4.103398  4.179680  103044000\n",
       "2006-05-30  4.183400  4.184330  3.986184  4.093164   49898000\n",
       "2006-05-31  4.125723  4.219679  4.125723  4.180608   30002000\n",
       "2006-06-01  4.179678  4.474572  4.176887  4.419686   62344000"
      ]
     },
     "execution_count": 3,
     "metadata": {},
     "output_type": "execute_result"
    }
   ],
   "source": [
    "df.head()"
   ]
  },
  {
   "cell_type": "code",
   "execution_count": 4,
   "id": "d0ae7470",
   "metadata": {},
   "outputs": [
    {
     "data": {
      "text/html": [
       "<div>\n",
       "<style scoped>\n",
       "    .dataframe tbody tr th:only-of-type {\n",
       "        vertical-align: middle;\n",
       "    }\n",
       "\n",
       "    .dataframe tbody tr th {\n",
       "        vertical-align: top;\n",
       "    }\n",
       "\n",
       "    .dataframe thead th {\n",
       "        text-align: right;\n",
       "    }\n",
       "</style>\n",
       "<table border=\"1\" class=\"dataframe\">\n",
       "  <thead>\n",
       "    <tr style=\"text-align: right;\">\n",
       "      <th></th>\n",
       "      <th>Open</th>\n",
       "      <th>High</th>\n",
       "      <th>Low</th>\n",
       "      <th>Close</th>\n",
       "      <th>Volume</th>\n",
       "    </tr>\n",
       "  </thead>\n",
       "  <tbody>\n",
       "    <tr>\n",
       "      <th>count</th>\n",
       "      <td>3872.000000</td>\n",
       "      <td>3872.000000</td>\n",
       "      <td>3872.000000</td>\n",
       "      <td>3872.000000</td>\n",
       "      <td>3.872000e+03</td>\n",
       "    </tr>\n",
       "    <tr>\n",
       "      <th>mean</th>\n",
       "      <td>104.896814</td>\n",
       "      <td>105.956054</td>\n",
       "      <td>103.769349</td>\n",
       "      <td>104.882714</td>\n",
       "      <td>1.232250e+07</td>\n",
       "    </tr>\n",
       "    <tr>\n",
       "      <th>std</th>\n",
       "      <td>106.245511</td>\n",
       "      <td>107.303589</td>\n",
       "      <td>105.050064</td>\n",
       "      <td>106.168693</td>\n",
       "      <td>1.759665e+07</td>\n",
       "    </tr>\n",
       "    <tr>\n",
       "      <th>min</th>\n",
       "      <td>3.748967</td>\n",
       "      <td>4.102467</td>\n",
       "      <td>3.739664</td>\n",
       "      <td>4.083861</td>\n",
       "      <td>6.411000e+05</td>\n",
       "    </tr>\n",
       "    <tr>\n",
       "      <th>25%</th>\n",
       "      <td>22.347203</td>\n",
       "      <td>22.637997</td>\n",
       "      <td>22.034458</td>\n",
       "      <td>22.300391</td>\n",
       "      <td>3.529475e+06</td>\n",
       "    </tr>\n",
       "    <tr>\n",
       "      <th>50%</th>\n",
       "      <td>70.810079</td>\n",
       "      <td>71.375896</td>\n",
       "      <td>70.224002</td>\n",
       "      <td>70.856083</td>\n",
       "      <td>5.891750e+06</td>\n",
       "    </tr>\n",
       "    <tr>\n",
       "      <th>75%</th>\n",
       "      <td>147.688448</td>\n",
       "      <td>148.645373</td>\n",
       "      <td>146.822013</td>\n",
       "      <td>147.688438</td>\n",
       "      <td>1.319775e+07</td>\n",
       "    </tr>\n",
       "    <tr>\n",
       "      <th>max</th>\n",
       "      <td>392.653890</td>\n",
       "      <td>400.521479</td>\n",
       "      <td>389.747812</td>\n",
       "      <td>394.685730</td>\n",
       "      <td>3.953430e+08</td>\n",
       "    </tr>\n",
       "  </tbody>\n",
       "</table>\n",
       "</div>"
      ],
      "text/plain": [
       "              Open         High          Low        Close        Volume\n",
       "count  3872.000000  3872.000000  3872.000000  3872.000000  3.872000e+03\n",
       "mean    104.896814   105.956054   103.769349   104.882714  1.232250e+07\n",
       "std     106.245511   107.303589   105.050064   106.168693  1.759665e+07\n",
       "min       3.748967     4.102467     3.739664     4.083861  6.411000e+05\n",
       "25%      22.347203    22.637997    22.034458    22.300391  3.529475e+06\n",
       "50%      70.810079    71.375896    70.224002    70.856083  5.891750e+06\n",
       "75%     147.688448   148.645373   146.822013   147.688438  1.319775e+07\n",
       "max     392.653890   400.521479   389.747812   394.685730  3.953430e+08"
      ]
     },
     "execution_count": 4,
     "metadata": {},
     "output_type": "execute_result"
    }
   ],
   "source": [
    "df.describe()"
   ]
  },
  {
   "cell_type": "code",
   "execution_count": 5,
   "id": "2b2e9cf0",
   "metadata": {},
   "outputs": [
    {
     "data": {
      "text/plain": [
       "Open      0\n",
       "High      0\n",
       "Low       0\n",
       "Close     0\n",
       "Volume    0\n",
       "dtype: int64"
      ]
     },
     "execution_count": 5,
     "metadata": {},
     "output_type": "execute_result"
    }
   ],
   "source": [
    "df.isna().sum()"
   ]
  },
  {
   "cell_type": "code",
   "execution_count": 6,
   "id": "9081bef1",
   "metadata": {},
   "outputs": [],
   "source": [
    "tstart =2016\n",
    "tend = 2020"
   ]
  },
  {
   "cell_type": "code",
   "execution_count": 7,
   "id": "ab8313ac",
   "metadata": {},
   "outputs": [
    {
     "data": {
      "image/png": "[encoded data removed]",
      "text/plain": [
       "<Figure size 1600x400 with 1 Axes>"
      ]
     },
     "metadata": {},
     "output_type": "display_data"
    }
   ],
   "source": [
    "def train_test_plot (df,tstart,tend):\n",
    "    df.loc[f\"{tstart}\":f\"{tend}\",\"High\"].plot(figsize=(16,4),legend=True)\n",
    "    df.loc[f\"{tend+1}\":,\"High\"].plot(figsize=(16,4),legend=True)\n",
    "    plt.legend([f\"Train (Before{tend+1})\",f\"test({tend+1} and beyond)\"])\n",
    "    plt.title(\"Mastercard stock price\")\n",
    "    plt.show()\n",
    "train_test_plot(df,tstart,tend)"
   ]
  },
  {
   "cell_type": "code",
   "execution_count": 8,
   "id": "cbe66411",
   "metadata": {},
   "outputs": [],
   "source": [
    "def train_test_split (df,tstart,tend):\n",
    "    train = df.loc[f\"{tstart}\":f\"{tend}\",\"High\"].values\n",
    "    test = df.loc[f\"{tend+1}\":,\"High\"].values\n",
    "    return train , test \n",
    "training_set , test_set = train_test_split(df,tstart,tend)"
   ]
  },
  {
   "cell_type": "code",
   "execution_count": 9,
   "id": "12561ef8",
   "metadata": {},
   "outputs": [],
   "source": [
    "sc = MinMaxScaler(feature_range=(0,1))\n",
    "training_set = training_set.reshape(-1,1)\n",
    "training_set_scaled = sc.fit_transform(training_set)"
   ]
  },
  {
   "cell_type": "code",
   "execution_count": 10,
   "id": "c8abf698",
   "metadata": {},
   "outputs": [],
   "source": [
    "def split_sequence (sequence,n_steps):\n",
    "    x , y = list(),list()\n",
    "    for i in range(len(sequence)):\n",
    "        end_ix = i + n_steps\n",
    "        if end_ix > len(sequence)-1 :\n",
    "            break\n",
    "        seq_x , seq_y = sequence[i:end_ix],sequence[end_ix]\n",
    "        x.append(seq_x)\n",
    "        y.append(seq_y)\n",
    "    return np.array(x),np.array(y)"
   ]
  },
  {
   "cell_type": "code",
   "execution_count": 11,
   "id": "49cea837",
   "metadata": {},
   "outputs": [],
   "source": [
    "n_steps = 60\n",
    "features = 1\n",
    "x_train , y_train = split_sequence(training_set_scaled ,n_steps)"
   ]
  },
  {
   "cell_type": "code",
   "execution_count": 12,
   "id": "4acff686",
   "metadata": {},
   "outputs": [],
   "source": [
    "x_train = x_train.reshape(x_train.shape[0],x_train.shape[1],features)"
   ]
  },
  {
   "cell_type": "code",
   "execution_count": 13,
   "id": "3b75802b",
   "metadata": {},
   "outputs": [
    {
     "ename": "NameError",
     "evalue": "name 'Sequential' is not defined",
     "output_type": "error",
     "traceback": [
      "\u001b[1;31m---------------------------------------------------------------------------\u001b[0m",
      "\u001b[1;31mNameError\u001b[0m                                 Traceback (most recent call last)",
      "Cell \u001b[1;32mIn[13], line 1\u001b[0m\n\u001b[1;32m----> 1\u001b[0m model_lstm \u001b[38;5;241m=\u001b[39m Sequential()\n\u001b[0;32m      2\u001b[0m model_lstm\u001b[38;5;241m.\u001b[39madd (LSTM(units\u001b[38;5;241m=\u001b[39m\u001b[38;5;241m125\u001b[39m,activation\u001b[38;5;241m=\u001b[39m\u001b[38;5;124m'\u001b[39m\u001b[38;5;124mtanh\u001b[39m\u001b[38;5;124m'\u001b[39m,input_shape\u001b[38;5;241m=\u001b[39m(n_steps,features)))\n\u001b[0;32m      3\u001b[0m model_lstm\u001b[38;5;241m.\u001b[39madd(Dense(units\u001b[38;5;241m=\u001b[39m\u001b[38;5;241m1\u001b[39m))\n",
      "\u001b[1;31mNameError\u001b[0m: name 'Sequential' is not defined"
     ]
    }
   ],
   "source": [
    "model_lstm = Sequential()\n",
    "model_lstm.add (LSTM(units=125,activation='tanh',input_shape=(n_steps,features)))\n",
    "model_lstm.add(Dense(units=1))\n",
    "model_lstm.compile(optimizer='RMSprop',loss='mse')\n",
    "model_lstm.summary()\n",
    "model_lstm.fit(x_train,y_train,epochs=30,batch_size=32)"
   ]
  },
  {
   "cell_type": "code",
   "execution_count": 14,
   "id": "58a2f20f",
   "metadata": {},
   "outputs": [],
   "source": [
    "dataset_total = df.loc[:,\"High\"]\n",
    "inputs = dataset_total[len(dataset_total)-len(test_set)- n_steps :].values\n",
    "inputs = inputs.reshape(-1,1)"
   ]
  },
  {
   "cell_type": "code",
   "execution_count": 15,
   "id": "d438fcec",
   "metadata": {},
   "outputs": [],
   "source": [
    "inputs = sc.transform(inputs)\n",
    "x_test, y_test = split_sequence(inputs, n_steps)\n",
    "x_test = x_test.reshape(x_test.shape[0],x_test.shape[1],features)"
   ]
  },
  {
   "cell_type": "code",
   "execution_count": 16,
   "id": "e56ba086",
   "metadata": {},
   "outputs": [
    {
     "ename": "NameError",
     "evalue": "name 'model_lstm' is not defined",
     "output_type": "error",
     "traceback": [
      "\u001b[1;31m---------------------------------------------------------------------------\u001b[0m",
      "\u001b[1;31mNameError\u001b[0m                                 Traceback (most recent call last)",
      "Cell \u001b[1;32mIn[16], line 1\u001b[0m\n\u001b[1;32m----> 1\u001b[0m predicted_stock_price \u001b[38;5;241m=\u001b[39m model_lstm\u001b[38;5;241m.\u001b[39mpredict(x_test)\n\u001b[0;32m      2\u001b[0m predicted_stock_price \u001b[38;5;241m=\u001b[39m sc\u001b[38;5;241m.\u001b[39minverse_transform(predicted_stock_price)\n",
      "\u001b[1;31mNameError\u001b[0m: name 'model_lstm' is not defined"
     ]
    }
   ],
   "source": [
    "predicted_stock_price = model_lstm.predict(x_test)\n",
    "predicted_stock_price = sc.inverse_transform(predicted_stock_price)"
   ]
  },
  {
   "cell_type": "code",
   "execution_count": 17,
   "id": "b2f1374c",
   "metadata": {},
   "outputs": [
    {
     "ename": "NameError",
     "evalue": "name 'predicted_stock_price' is not defined",
     "output_type": "error",
     "traceback": [
      "\u001b[1;31m---------------------------------------------------------------------------\u001b[0m",
      "\u001b[1;31mNameError\u001b[0m                                 Traceback (most recent call last)",
      "Cell \u001b[1;32mIn[17], line 9\u001b[0m\n\u001b[0;32m      7\u001b[0m     plt\u001b[38;5;241m.\u001b[39mlegend()\n\u001b[0;32m      8\u001b[0m     plt\u001b[38;5;241m.\u001b[39mshow()\n\u001b[1;32m----> 9\u001b[0m plot_predictions(test_set,predicted_stock_price)\n",
      "\u001b[1;31mNameError\u001b[0m: name 'predicted_stock_price' is not defined"
     ]
    }
   ],
   "source": [
    "def plot_predictions (test,predicted):\n",
    "    plt.plot(test,color='gray',label='Real')\n",
    "    plt.plot(predicted,color='red',label='Predicted')\n",
    "    plt.title(\"MasterCard Stock Price Prediction\")\n",
    "    plt.xlabel(\"Time\")\n",
    "    plt.ylabel(\"MasterCard Stock Price\")\n",
    "    plt.legend()\n",
    "    plt.show()\n",
    "plot_predictions(test_set,predicted_stock_price)"
   ]
  },
  {
   "cell_type": "code",
   "execution_count": 18,
   "id": "594a4b39",
   "metadata": {},
   "outputs": [
    {
     "ename": "NameError",
     "evalue": "name 'predicted_stock_price' is not defined",
     "output_type": "error",
     "traceback": [
      "\u001b[1;31m---------------------------------------------------------------------------\u001b[0m",
      "\u001b[1;31mNameError\u001b[0m                                 Traceback (most recent call last)",
      "Cell \u001b[1;32mIn[18], line 4\u001b[0m\n\u001b[0;32m      2\u001b[0m     rmse \u001b[38;5;241m=\u001b[39m np\u001b[38;5;241m.\u001b[39msqrt(mean_squared_error(test,predicted))\n\u001b[0;32m      3\u001b[0m     \u001b[38;5;28mprint\u001b[39m(\u001b[38;5;124m\"\u001b[39m\u001b[38;5;124mThe root mean squared error is [.:.2f].\u001b[39m\u001b[38;5;124m\"\u001b[39m\u001b[38;5;241m.\u001b[39mformat(rmse))\n\u001b[1;32m----> 4\u001b[0m return_rmse(test_set,predicted_stock_price)\n",
      "\u001b[1;31mNameError\u001b[0m: name 'predicted_stock_price' is not defined"
     ]
    }
   ],
   "source": [
    "def return_rmse(test,predicted):\n",
    "    rmse = np.sqrt(mean_squared_error(test,predicted))\n",
    "    print(\"The root mean squared error is [.:.2f].\".format(rmse))\n",
    "return_rmse(test_set,predicted_stock_price)"
   ]
  },
  {
   "cell_type": "code",
   "execution_count": null,
   "id": "7234ff8d",
   "metadata": {},
   "outputs": [],
   "source": []
  },
  {
   "cell_type": "code",
   "execution_count": null,
   "id": "251d0909",
   "metadata": {},
   "outputs": [],
   "source": []
  }
 ],
 "metadata": {
  "kernelspec": {
   "display_name": "Python 3 (ipykernel)",
   "language": "python",
   "name": "python3"
  },
  "language_info": {
   "codemirror_mode": {
    "name": "ipython",
    "version": 3
   },
   "file_extension": ".py",
   "mimetype": "text/x-python",
   "name": "python",
   "nbconvert_exporter": "python",
   "pygments_lexer": "ipython3",
   "version": "3.11.3"
  }
 },
 "nbformat": 4,
 "nbformat_minor": 5
}
