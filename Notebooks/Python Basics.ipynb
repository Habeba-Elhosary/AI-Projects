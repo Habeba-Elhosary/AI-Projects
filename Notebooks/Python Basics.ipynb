{
 "cells": [
  {
   "cell_type": "code",
   "execution_count": 1,
   "id": "d823aaeb",
   "metadata": {},
   "outputs": [
    {
     "name": "stdout",
     "output_type": "stream",
     "text": [
      "code\n"
     ]
    }
   ],
   "source": [
    "print('code')"
   ]
  },
  {
   "cell_type": "code",
   "execution_count": 2,
   "id": "58782541",
   "metadata": {},
   "outputs": [
    {
     "name": "stdout",
     "output_type": "stream",
     "text": [
      "5\n"
     ]
    }
   ],
   "source": [
    "num = 5 \n",
    "print(num)"
   ]
  },
  {
   "cell_type": "code",
   "execution_count": 3,
   "id": "5bdb9730",
   "metadata": {},
   "outputs": [
    {
     "name": "stdout",
     "output_type": "stream",
     "text": [
      "(1, 2, 'habeba', (1, 2))\n"
     ]
    }
   ],
   "source": [
    "tuple =(1,2,'habeba',(1,2))\n",
    "print(tuple)"
   ]
  },
  {
   "cell_type": "code",
   "execution_count": 4,
   "id": "b8527f73",
   "metadata": {},
   "outputs": [
    {
     "name": "stdout",
     "output_type": "stream",
     "text": [
      "3\n"
     ]
    }
   ],
   "source": [
    "list =[1,2,'h',[1,2]]\n",
    "list[0]=3\n",
    "print(list[0])"
   ]
  },
  {
   "cell_type": "code",
   "execution_count": 5,
   "id": "bfd3046a",
   "metadata": {},
   "outputs": [
    {
     "name": "stdout",
     "output_type": "stream",
     "text": [
      "{'name': 'habeba', 'age': 21, 'city': 'mahalla'}\n",
      "habeba\n"
     ]
    }
   ],
   "source": [
    "dict={'name':'habeba','age':21,'city':'mahalla'}\n",
    "print(dict)\n",
    "print(dict['name'])"
   ]
  },
  {
   "cell_type": "code",
   "execution_count": 6,
   "id": "7d002a4e",
   "metadata": {
    "scrolled": true
   },
   "outputs": [
    {
     "name": "stdout",
     "output_type": "stream",
     "text": [
      "<class 'int'>\n",
      "<class 'dict'>\n",
      "<class 'float'>\n",
      "<class 'str'>\n"
     ]
    }
   ],
   "source": [
    "num=100\n",
    "print(type(num))\n",
    "dict={'name':'habeba','age':21,'city':'mahalla'}\n",
    "print(type(dict))\n",
    "fnum=35.25\n",
    "print(type(fnum))\n",
    "x='habeba'\n",
    "print(type(x))"
   ]
  },
  {
   "cell_type": "code",
   "execution_count": 8,
   "id": "3db5b881",
   "metadata": {},
   "outputs": [
    {
     "name": "stdout",
     "output_type": "stream",
     "text": [
      "yes\n"
     ]
    }
   ],
   "source": [
    "num=3\n",
    "if(num>2):\n",
    " print('yes')\n",
    "else :\n",
    " print('no')"
   ]
  },
  {
   "cell_type": "code",
   "execution_count": 9,
   "id": "d8866353",
   "metadata": {},
   "outputs": [
    {
     "name": "stdout",
     "output_type": "stream",
     "text": [
      "(2, 1, ('hh', 'hgf'))\n",
      "{'n': 's'}\n"
     ]
    }
   ],
   "source": [
    "tuple = (2,1,('hh','hgf'))\n",
    "dict ={'n':'s'}\n",
    "print(tuple)\n",
    "print(dict)"
   ]
  },
  {
   "cell_type": "code",
   "execution_count": 10,
   "id": "7a3e5179",
   "metadata": {},
   "outputs": [
    {
     "name": "stdout",
     "output_type": "stream",
     "text": [
      "[1, 2, 3, 4, 5]\n"
     ]
    }
   ],
   "source": [
    "myls =[1,2,3,4]\n",
    "myls.append(5)\n",
    "print(myls)"
   ]
  },
  {
   "cell_type": "code",
   "execution_count": 11,
   "id": "fb5caf52",
   "metadata": {},
   "outputs": [
    {
     "name": "stdout",
     "output_type": "stream",
     "text": [
      "[1, 2, 3, 4, 5]\n"
     ]
    }
   ],
   "source": [
    "myls =[1,2,3,4]\n",
    "myls.insert(4,5)\n",
    "print(myls)"
   ]
  },
  {
   "cell_type": "code",
   "execution_count": 12,
   "id": "9d0a7dba",
   "metadata": {},
   "outputs": [
    {
     "name": "stdout",
     "output_type": "stream",
     "text": [
      "[1, 2, 3]\n"
     ]
    }
   ],
   "source": [
    "myls =[1,2,3,4]\n",
    "del myls[3]\n",
    "print(myls)"
   ]
  },
  {
   "cell_type": "code",
   "execution_count": 13,
   "id": "38303723",
   "metadata": {},
   "outputs": [
    {
     "name": "stdout",
     "output_type": "stream",
     "text": [
      "5\n"
     ]
    }
   ],
   "source": [
    "x='hello'\n",
    "y=len(x)\n",
    "print(y)"
   ]
  },
  {
   "cell_type": "code",
   "execution_count": 14,
   "id": "03f25714",
   "metadata": {},
   "outputs": [
    {
     "name": "stdout",
     "output_type": "stream",
     "text": [
      "2\n"
     ]
    }
   ],
   "source": [
    "x='hello'\n",
    "y=x.count('l')\n",
    "print(y)"
   ]
  },
  {
   "cell_type": "code",
   "execution_count": 15,
   "id": "96f3d566",
   "metadata": {},
   "outputs": [
    {
     "name": "stdout",
     "output_type": "stream",
     "text": [
      "[1, 3]\n"
     ]
    }
   ],
   "source": [
    "ls=[1,2,3]\n",
    "newls=ls.pop(1)\n",
    "print(ls)"
   ]
  },
  {
   "cell_type": "code",
   "execution_count": 16,
   "id": "7a56149d",
   "metadata": {},
   "outputs": [
    {
     "name": "stdout",
     "output_type": "stream",
     "text": [
      "[1, 2, 3, 4, 5, 6]\n"
     ]
    }
   ],
   "source": [
    "ls=[1,2,3]\n",
    "ls.extend([4,5,6])\n",
    "print(ls)"
   ]
  },
  {
   "cell_type": "code",
   "execution_count": 17,
   "id": "827b50d8",
   "metadata": {},
   "outputs": [
    {
     "name": "stdout",
     "output_type": "stream",
     "text": [
      "1\n"
     ]
    }
   ],
   "source": [
    "ls=[1,2,3]\n",
    "index=ls.index(2)\n",
    "print(index)"
   ]
  },
  {
   "cell_type": "code",
   "execution_count": 18,
   "id": "be1be301",
   "metadata": {},
   "outputs": [
    {
     "name": "stdout",
     "output_type": "stream",
     "text": [
      "[1, 2, 3, 4, 5]\n"
     ]
    }
   ],
   "source": [
    "ls=[1,5,3,2,4]\n",
    "ls.sort()\n",
    "print(ls)"
   ]
  },
  {
   "cell_type": "code",
   "execution_count": 19,
   "id": "ab77cf9c",
   "metadata": {},
   "outputs": [
    {
     "name": "stdout",
     "output_type": "stream",
     "text": [
      "[5, 4, 3, 2, 1]\n"
     ]
    }
   ],
   "source": [
    "ls.sort(reverse=True)\n",
    "print(ls)"
   ]
  },
  {
   "cell_type": "code",
   "execution_count": 20,
   "id": "bdcf51c6",
   "metadata": {},
   "outputs": [
    {
     "name": "stdout",
     "output_type": "stream",
     "text": [
      "[1, 2, 3, 4, 5]\n"
     ]
    }
   ],
   "source": [
    "ls.reverse()\n",
    "print(ls)"
   ]
  },
  {
   "cell_type": "code",
   "execution_count": 21,
   "id": "710f7df6",
   "metadata": {},
   "outputs": [
    {
     "name": "stdout",
     "output_type": "stream",
     "text": [
      "less\n",
      "less\n",
      "equal\n",
      "more\n",
      "more\n"
     ]
    }
   ],
   "source": [
    "nums=[1,2,3,4,5]\n",
    "for num in nums :\n",
    "    if(num<3):\n",
    "        print('less')\n",
    "    elif(num==3) :\n",
    "        print('equal')\n",
    "    else:\n",
    "        print('more')"
   ]
  },
  {
   "cell_type": "code",
   "execution_count": 22,
   "id": "cf0014dc",
   "metadata": {},
   "outputs": [
    {
     "name": "stdout",
     "output_type": "stream",
     "text": [
      "1 1\n",
      "1 2\n",
      "1 3\n",
      "2 1\n",
      "2 2\n",
      "2 3\n",
      "3 1\n",
      "3 2\n",
      "3 3\n"
     ]
    }
   ],
   "source": [
    "for i in range(1,4):\n",
    "    for j in range (1,4):\n",
    "        print(i , j)"
   ]
  },
  {
   "cell_type": "code",
   "execution_count": 23,
   "id": "b39e5931",
   "metadata": {},
   "outputs": [
    {
     "name": "stdout",
     "output_type": "stream",
     "text": [
      "1 1\n",
      "1 2\n",
      "1 3\n",
      "2 1\n",
      "2 2\n",
      "2 3\n",
      "3 1\n",
      "3 2\n",
      "3 3\n"
     ]
    }
   ],
   "source": [
    "i= 1\n",
    "while(i<=3):\n",
    "    j=1\n",
    "    while(j<=3):\n",
    "        print(i,j)\n",
    "        j+=1\n",
    "    i+=1"
   ]
  },
  {
   "cell_type": "code",
   "execution_count": 24,
   "id": "9b61a415",
   "metadata": {},
   "outputs": [
    {
     "name": "stdout",
     "output_type": "stream",
     "text": [
      "1\n",
      "2\n"
     ]
    }
   ],
   "source": [
    "ls=[1,2,3,4,5]\n",
    "for i in ls:\n",
    "    if(i==3):\n",
    "        break\n",
    "    else:\n",
    "        print(i)"
   ]
  },
  {
   "cell_type": "code",
   "execution_count": 25,
   "id": "65b5c12a",
   "metadata": {},
   "outputs": [
    {
     "name": "stdout",
     "output_type": "stream",
     "text": [
      "1\n",
      "2\n",
      "4\n",
      "5\n"
     ]
    }
   ],
   "source": [
    "ls=[1,2,3,4,5]\n",
    "for i in ls:\n",
    "    if(i==3):\n",
    "        continue\n",
    "    else:\n",
    "        print(i)"
   ]
  },
  {
   "cell_type": "code",
   "execution_count": 26,
   "id": "aa027072",
   "metadata": {},
   "outputs": [
    {
     "name": "stdout",
     "output_type": "stream",
     "text": [
      "final slope (m) : 47.49999999999931\n",
      "final intercept (b) : 16.000000000000227\n"
     ]
    }
   ],
   "source": [
    "X=[1,2,3,4,5]\n",
    "Y=[2,4,5,4,5]\n",
    "m=0.5\n",
    "b=1.0\n",
    "\n",
    "def Hypothesis (x) :\n",
    "    return m*x+b\n",
    "\n",
    "y_pred =[Hypothesis(x) for x in X]\n",
    "\n",
    "def cost_func (y_pred,Y) :\n",
    "    m = len(Y)\n",
    "    return (1/ (2*m)) *sum((y_pred[i] - Y[i]) ** 2 for i in range(m))\n",
    "\n",
    "cost = cost_func(y_pred, Y)\n",
    "learning_rate = 0.01\n",
    "epochs = 1000\n",
    "for _ in range(epochs):\n",
    "    gradient_m = sum((y_pred[i] - Y[i]) * X[i] for i in range (len(X)))\n",
    "    gradient_b = sum(y_pred[i] - Y[i] for i in range (len(X)))\n",
    "    \n",
    "    m-= learning_rate * (1 /len(X))* gradient_m\n",
    "    b-= learning_rate * (1 /len(X))* gradient_b\n",
    "\n",
    "print('final slope (m) :',m)\n",
    "print ('final intercept (b) :',b)"
   ]
  },
  {
   "cell_type": "code",
   "execution_count": null,
   "id": "43363d6b",
   "metadata": {},
   "outputs": [],
   "source": []
  }
 ],
 "metadata": {
  "kernelspec": {
   "display_name": "Python 3 (ipykernel)",
   "language": "python",
   "name": "python3"
  },
  "language_info": {
   "codemirror_mode": {
    "name": "ipython",
    "version": 3
   },
   "file_extension": ".py",
   "mimetype": "text/x-python",
   "name": "python",
   "nbconvert_exporter": "python",
   "pygments_lexer": "ipython3",
   "version": "3.11.3"
  }
 },
 "nbformat": 4,
 "nbformat_minor": 5
}
